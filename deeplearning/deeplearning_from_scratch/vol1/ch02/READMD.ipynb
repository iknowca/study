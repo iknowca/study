{
 "cells": [
  {
   "metadata": {},
   "cell_type": "markdown",
   "source": "# Perceptron",
   "id": "237617194159a97b"
  },
  {
   "metadata": {},
   "cell_type": "markdown",
   "source": [
    "## What is perceptron\n",
    "\n"
   ],
   "id": "f5c4419f9556824d"
  },
  {
   "metadata": {
    "ExecuteTime": {
     "end_time": "2025-10-22T14:32:18.919049Z",
     "start_time": "2025-10-22T14:32:18.916387Z"
    }
   },
   "cell_type": "code",
   "source": "import numpy as np",
   "id": "45d0b775d25670e3",
   "outputs": [],
   "execution_count": 15
  },
  {
   "metadata": {},
   "cell_type": "markdown",
   "source": "### AND",
   "id": "a1cd004742a2048e"
  },
  {
   "metadata": {
    "ExecuteTime": {
     "end_time": "2025-10-22T14:28:12.650730Z",
     "start_time": "2025-10-22T14:28:12.647090Z"
    }
   },
   "cell_type": "code",
   "source": [
    "def AND(x1, x2):\n",
    "    w1, w2, theta = 0.5, 0.5, 0.7\n",
    "    tmp = w1*x1 + w2*x2\n",
    "    if tmp <= theta:\n",
    "        return 0\n",
    "    else:\n",
    "        return 1"
   ],
   "id": "3235c337b6e86310",
   "outputs": [],
   "execution_count": 12
  },
  {
   "cell_type": "code",
   "id": "initial_id",
   "metadata": {
    "collapsed": true,
    "ExecuteTime": {
     "end_time": "2025-10-22T14:28:22.106758Z",
     "start_time": "2025-10-22T14:28:22.102042Z"
    }
   },
   "source": [
    "print(AND(0, 0))\n",
    "print(AND(0, 1))\n",
    "print(AND(1, 0))\n",
    "print(AND(1, 1))"
   ],
   "outputs": [
    {
     "name": "stdout",
     "output_type": "stream",
     "text": [
      "0\n",
      "0\n",
      "0\n",
      "1\n"
     ]
    }
   ],
   "execution_count": 14
  },
  {
   "metadata": {
    "ExecuteTime": {
     "end_time": "2025-10-21T16:42:17.637860Z",
     "start_time": "2025-10-21T16:42:17.636199Z"
    }
   },
   "cell_type": "markdown",
   "source": [
    "$$\n",
    "y = \\begin{cases}\n",
    "0 & (b + w_1x_1 + w_2x_2) \\le 0 \\\\\n",
    "1 & (b + w_1x_1 + w_2x_2) > 0\n",
    "\\end{cases}\n",
    "$$"
   ],
   "id": "ecc7fe0518c538b5"
  },
  {
   "metadata": {
    "ExecuteTime": {
     "end_time": "2025-10-22T14:33:06.286548Z",
     "start_time": "2025-10-22T14:33:06.283878Z"
    }
   },
   "cell_type": "code",
   "source": [
    "def AND(x1, x2):\n",
    "    x = np.array([x1, x2])\n",
    "    w = np.array([0.5, 0.5])\n",
    "    b = -0.7\n",
    "    tmp = np.sum(w*x) + b\n",
    "    if tmp <= 0:\n",
    "        return 0\n",
    "    else:\n",
    "        return 1"
   ],
   "id": "63efbf0bd62a2f21",
   "outputs": [],
   "execution_count": 16
  },
  {
   "metadata": {
    "ExecuteTime": {
     "end_time": "2025-10-22T14:37:35.099884Z",
     "start_time": "2025-10-22T14:37:35.098152Z"
    }
   },
   "cell_type": "code",
   "source": [
    "print(AND(0, 0))\n",
    "print(AND(0, 1))\n",
    "print(AND(1, 0))\n",
    "print(AND(1, 1))"
   ],
   "id": "3ecc2ffac1afe5ae",
   "outputs": [
    {
     "name": "stdout",
     "output_type": "stream",
     "text": [
      "0\n",
      "0\n",
      "0\n",
      "1\n"
     ]
    }
   ],
   "execution_count": 21
  },
  {
   "metadata": {
    "ExecuteTime": {
     "end_time": "2025-10-22T14:38:03.083374Z",
     "start_time": "2025-10-22T14:38:03.081098Z"
    }
   },
   "cell_type": "code",
   "source": [
    "def NAND(x1, x2):\n",
    "    x = np.array([x1, x2])\n",
    "    w = np.array([-0.5, -0.5])\n",
    "    b = 0.7\n",
    "    tmp = np.sum(w*x) + b\n",
    "    if tmp <= 0:\n",
    "        return 0\n",
    "    else:\n",
    "        return 1"
   ],
   "id": "cb723c5d3ec57137",
   "outputs": [],
   "execution_count": 23
  },
  {
   "metadata": {
    "ExecuteTime": {
     "end_time": "2025-10-22T14:38:04.384475Z",
     "start_time": "2025-10-22T14:38:04.380807Z"
    }
   },
   "cell_type": "code",
   "source": [
    "print(NAND(0, 0))\n",
    "print(NAND(0, 1))\n",
    "print(NAND(1, 0))\n",
    "print(NAND(1, 1))"
   ],
   "id": "9f8c998524c55451",
   "outputs": [
    {
     "name": "stdout",
     "output_type": "stream",
     "text": [
      "1\n",
      "1\n",
      "1\n",
      "0\n"
     ]
    }
   ],
   "execution_count": 24
  },
  {
   "metadata": {
    "ExecuteTime": {
     "end_time": "2025-10-22T14:38:06.871977Z",
     "start_time": "2025-10-22T14:38:06.868330Z"
    }
   },
   "cell_type": "code",
   "source": [
    "def OR(x1, x2):\n",
    "    x = np.array([x1, x2])\n",
    "    w = np.array([0.5, 0.5])\n",
    "    b = -0.2\n",
    "    tmp = np.sum(w*x) + b\n",
    "    if tmp <= 0:\n",
    "        return 0\n",
    "    else:\n",
    "        return 1"
   ],
   "id": "38f8679427131029",
   "outputs": [],
   "execution_count": 25
  },
  {
   "metadata": {
    "ExecuteTime": {
     "end_time": "2025-10-22T14:38:07.143198Z",
     "start_time": "2025-10-22T14:38:07.140334Z"
    }
   },
   "cell_type": "code",
   "source": [
    "def XOR(x1, x2):\n",
    "    s1 = NAND(x1, x2)\n",
    "    s2 = OR(x1, x2)\n",
    "    y = AND(s1, s2)\n",
    "    return y"
   ],
   "id": "b9955e5af13c4694",
   "outputs": [],
   "execution_count": 26
  },
  {
   "metadata": {
    "ExecuteTime": {
     "end_time": "2025-10-22T14:38:07.474472Z",
     "start_time": "2025-10-22T14:38:07.471039Z"
    }
   },
   "cell_type": "code",
   "source": [
    "print(XOR(0, 0))\n",
    "print(XOR(0, 1))\n",
    "print(XOR(1, 0))\n",
    "print(XOR(1, 1))"
   ],
   "id": "813de3a4866691d3",
   "outputs": [
    {
     "name": "stdout",
     "output_type": "stream",
     "text": [
      "0\n",
      "1\n",
      "1\n",
      "0\n"
     ]
    }
   ],
   "execution_count": 27
  },
  {
   "metadata": {},
   "cell_type": "code",
   "outputs": [],
   "execution_count": null,
   "source": "",
   "id": "67db45c37eb92a84"
  }
 ],
 "metadata": {
  "kernelspec": {
   "display_name": "Python 3",
   "language": "python",
   "name": "python3"
  },
  "language_info": {
   "codemirror_mode": {
    "name": "ipython",
    "version": 2
   },
   "file_extension": ".py",
   "mimetype": "text/x-python",
   "name": "python",
   "nbconvert_exporter": "python",
   "pygments_lexer": "ipython2",
   "version": "2.7.6"
  }
 },
 "nbformat": 4,
 "nbformat_minor": 5
}
